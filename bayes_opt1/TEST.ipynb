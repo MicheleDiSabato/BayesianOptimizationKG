{
 "cells": [
  {
   "cell_type": "code",
   "execution_count": 1,
   "id": "072ac7b3",
   "metadata": {},
   "outputs": [],
   "source": [
    "import sys\n",
    "import os \n",
    "# current working directory\n",
    "path = os.getcwd()\n",
    "# parent directory\n",
    "parent = os.path.join(path, os.pardir)\n",
    "sys.path.append(os.path.abspath(parent))\n",
    "from bayes_opt1 import BayesianOptimization\n",
    "from bayes_opt1 import UtilityFunction\n",
    "import numpy as np\n",
    "\n",
    "import matplotlib.pyplot as plt\n",
    "from matplotlib import gridspec\n",
    "%matplotlib inline\n",
    "\n",
    "from scipy.stats import norm\n",
    "from scipy.optimize import minimize\n",
    "\n",
    "import random\n",
    "import warnings\n",
    "from pyDOE import lhs # for Latin Hypercube Design\n",
    "import numdifftools as nd # for Algorithm 4 (gradient computation)"
   ]
  },
  {
   "cell_type": "code",
   "execution_count": 2,
   "id": "b9bf998e",
   "metadata": {},
   "outputs": [],
   "source": [
    "# Runnare per installare le librerie nuove:\n",
    "\n",
    "# pip install pyDOE\n",
    "# pip install numdifftools"
   ]
  },
  {
   "cell_type": "markdown",
   "id": "3e59e9ae",
   "metadata": {},
   "source": [
    "# Test 1D"
   ]
  },
  {
   "cell_type": "code",
   "execution_count": 2,
   "id": "80aa829d",
   "metadata": {},
   "outputs": [
    {
     "name": "stdout",
     "output_type": "stream",
     "text": [
      "|   iter    |  target   |     x     |\n",
      "-------------------------------------\n",
      "| \u001b[0m 1       \u001b[0m | \u001b[0m 0.8721  \u001b[0m | \u001b[0m 3.004   \u001b[0m |\n",
      "| \u001b[95m 2       \u001b[0m | \u001b[95m 0.9815  \u001b[0m | \u001b[95m 6.644   \u001b[0m |\n",
      "=====================================\n",
      "|   iter    |  target   |     x     |\n",
      "-------------------------------------\n",
      "j =  1\n",
      "j =  2\n",
      "j =  1\n",
      "j =  2\n",
      "j =  1\n",
      "j =  2\n",
      "j =  1\n",
      "j =  2\n",
      "1\n",
      "1\n",
      "| \u001b[0m 3       \u001b[0m | \u001b[0m 0.7917  \u001b[0m | \u001b[0m 7.598   \u001b[0m |\n",
      "j =  1\n"
     ]
    },
    {
     "name": "stderr",
     "output_type": "stream",
     "text": [
      "/Users/martina/opt/anaconda3/lib/python3.8/site-packages/sklearn/gaussian_process/kernels.py:402: ConvergenceWarning: The optimal value found for dimension 0 of parameter length_scale is close to the specified lower bound 1e-05. Decreasing the bound and calling fit again may find a better value.\n",
      "  warnings.warn(\"The optimal value found for \"\n"
     ]
    },
    {
     "name": "stdout",
     "output_type": "stream",
     "text": [
      "j =  2\n",
      "j =  1\n",
      "j =  2\n",
      "j =  1\n",
      "j =  2\n",
      "j =  1\n",
      "j =  2\n",
      "1\n",
      "1\n",
      "| \u001b[0m 4       \u001b[0m | \u001b[0m 0.9799  \u001b[0m | \u001b[0m 1.081   \u001b[0m |\n",
      "=====================================\n"
     ]
    }
   ],
   "source": [
    "# Let's start by definying our function, bounds, and instanciating an optimization object.\n",
    "def black_box_function(x):\n",
    "    return np.exp(-(x - 2)**2) + np.exp(-(x - 6)**2/10) + 1/ (x**2 + 1)\n",
    "\n",
    "x = np.linspace(-2, 10, 10) # NO reshape\n",
    "# x needs to be an array of shape (something,)\n",
    "\n",
    "optimizer = BayesianOptimization(\n",
    "    f=black_box_function,\n",
    "    pbounds={'x': (-2, 10)},\n",
    "    verbose=2,\n",
    "    random_state=1,\n",
    ")\n",
    "optimizer.maximize(init_points=2, n_iter=0, kappa=5, acq='kg')\n",
    "optimizer.maximize(init_points=0, n_iter=2, kappa=5, acq='kg')"
   ]
  },
  {
   "cell_type": "code",
   "execution_count": 3,
   "id": "530bf57b",
   "metadata": {},
   "outputs": [
    {
     "name": "stdout",
     "output_type": "stream",
     "text": [
      "|   iter    |  target   |     x     |\n",
      "-------------------------------------\n",
      "| \u001b[0m 1       \u001b[0m | \u001b[0m 0.8721  \u001b[0m | \u001b[0m 3.004   \u001b[0m |\n",
      "| \u001b[95m 2       \u001b[0m | \u001b[95m 0.9815  \u001b[0m | \u001b[95m 6.644   \u001b[0m |\n",
      "=====================================\n",
      "|   iter    |  target   |     x     |\n",
      "-------------------------------------\n",
      "| \u001b[95m 3       \u001b[0m | \u001b[95m 1.009   \u001b[0m | \u001b[95m 6.383   \u001b[0m |\n",
      "| \u001b[0m 4       \u001b[0m | \u001b[0m 0.9802  \u001b[0m | \u001b[0m 5.249   \u001b[0m |\n",
      "=====================================\n"
     ]
    }
   ],
   "source": [
    "# UCB\n",
    "optimizer = BayesianOptimization(\n",
    "    f=black_box_function,\n",
    "    pbounds={'x': (-2, 10)},\n",
    "    verbose=2,\n",
    "    random_state=1,\n",
    ")\n",
    "optimizer.maximize(init_points=2, n_iter=0, kappa=5, acq='ucb')\n",
    "optimizer.maximize(init_points=0, n_iter=2, kappa=5, acq='ucb')"
   ]
  },
  {
   "cell_type": "markdown",
   "id": "62c7994e",
   "metadata": {},
   "source": [
    "# Test 2D"
   ]
  },
  {
   "cell_type": "code",
   "execution_count": 4,
   "id": "9a0740a1",
   "metadata": {},
   "outputs": [
    {
     "name": "stdout",
     "output_type": "stream",
     "text": [
      "|   iter    |  target   |     x     |     y     |\n",
      "-------------------------------------------------\n",
      "| \u001b[0m 1       \u001b[0m | \u001b[0m-4.465   \u001b[0m | \u001b[0m-1.583   \u001b[0m | \u001b[0m 2.72    \u001b[0m |\n",
      "| \u001b[0m 2       \u001b[0m | \u001b[0m-4.696   \u001b[0m | \u001b[0m-2.0     \u001b[0m | \u001b[0m 2.302   \u001b[0m |\n",
      "=================================================\n",
      "|   iter    |  target   |     x     |     y     |\n",
      "-------------------------------------------------\n",
      "j =  1\n",
      "j =  2\n",
      "j =  1\n",
      "j =  2\n",
      "j =  1\n",
      "j =  2\n",
      "j =  1\n",
      "j =  2\n",
      "1\n",
      "1\n",
      "| \u001b[95m 3       \u001b[0m | \u001b[95m-4.053   \u001b[0m | \u001b[95m-1.519   \u001b[0m | \u001b[95m 2.657   \u001b[0m |\n",
      "=================================================\n"
     ]
    }
   ],
   "source": [
    "# Let's start by definying our function, bounds, and instanciating an optimization object.\n",
    "def black_box_function(x, y):\n",
    "    return -x ** 2 - (y - 1) ** 2 + 1\n",
    "optimizer = BayesianOptimization(\n",
    "    f=black_box_function,\n",
    "    pbounds={'x': (-2, -1), 'y': (2, 3)},\n",
    "    verbose=2,\n",
    "    random_state=1,\n",
    ")\n",
    "optimizer.maximize(init_points=2, n_iter=0, kappa=5, acq='kg')\n",
    "optimizer.maximize(init_points=0, n_iter=1, kappa=5, acq='kg')"
   ]
  },
  {
   "cell_type": "code",
   "execution_count": 5,
   "id": "8f1107f6",
   "metadata": {},
   "outputs": [
    {
     "name": "stdout",
     "output_type": "stream",
     "text": [
      "|   iter    |  target   |     x     |     y     |\n",
      "-------------------------------------------------\n",
      "| \u001b[0m 1       \u001b[0m | \u001b[0m-4.465   \u001b[0m | \u001b[0m-1.583   \u001b[0m | \u001b[0m 2.72    \u001b[0m |\n",
      "| \u001b[0m 2       \u001b[0m | \u001b[0m-4.696   \u001b[0m | \u001b[0m-2.0     \u001b[0m | \u001b[0m 2.302   \u001b[0m |\n",
      "=================================================\n",
      "|   iter    |  target   |     x     |     y     |\n",
      "-------------------------------------------------\n",
      "| \u001b[0m 3       \u001b[0m | \u001b[0m-4.488   \u001b[0m | \u001b[0m-1.585   \u001b[0m | \u001b[0m 2.725   \u001b[0m |\n",
      "=================================================\n"
     ]
    }
   ],
   "source": [
    "# EI\n",
    "optimizer = BayesianOptimization(\n",
    "    f=black_box_function,\n",
    "    pbounds={'x': (-2, -1), 'y': (2, 3)},\n",
    "    verbose=2,\n",
    "    random_state=1,\n",
    ")\n",
    "optimizer.maximize(init_points=2, n_iter=0, kappa=5, acq='ei')\n",
    "optimizer.maximize(init_points=0, n_iter=1, kappa=5, acq='ei')"
   ]
  },
  {
   "cell_type": "markdown",
   "id": "3ce03bdc",
   "metadata": {},
   "source": [
    "# Test 5D"
   ]
  },
  {
   "cell_type": "code",
   "execution_count": 6,
   "id": "2c38d455",
   "metadata": {},
   "outputs": [],
   "source": [
    "# Let's start by definying our function, bounds, and instanciating an optimization object.\n",
    "def black_box_function(x1, x2, x3, x4, x5):\n",
    "    return -x1 ** 2 - (x2 - 1) ** 2 + 1 + x3 + x4 + x5"
   ]
  },
  {
   "cell_type": "markdown",
   "id": "ba614dfc",
   "metadata": {},
   "source": [
    "Moooolto lento con KG: bisogna diminuire n_grid"
   ]
  },
  {
   "cell_type": "code",
   "execution_count": 7,
   "id": "e7f12470",
   "metadata": {},
   "outputs": [
    {
     "name": "stdout",
     "output_type": "stream",
     "text": [
      "|   iter    |  target   |    x1     |    x2     |    x3     |    x4     |    x5     |\n",
      "-------------------------------------------------------------------------------------\n",
      "| \u001b[0m 1       \u001b[0m | \u001b[0m 1.984   \u001b[0m | \u001b[0m-1.583   \u001b[0m | \u001b[0m 2.72    \u001b[0m | \u001b[0m 2.0     \u001b[0m | \u001b[0m 2.302   \u001b[0m | \u001b[0m 2.147   \u001b[0m |\n",
      "| \u001b[95m 2       \u001b[0m | \u001b[95m 3.235   \u001b[0m | \u001b[95m-1.908   \u001b[0m | \u001b[95m 2.186   \u001b[0m | \u001b[95m 2.346   \u001b[0m | \u001b[95m 2.397   \u001b[0m | \u001b[95m 2.539   \u001b[0m |\n",
      "=====================================================================================\n",
      "|   iter    |  target   |    x1     |    x2     |    x3     |    x4     |    x5     |\n",
      "-------------------------------------------------------------------------------------\n",
      "j =  1\n",
      "j =  2\n",
      "j =  1\n",
      "j =  2\n",
      "j =  1\n",
      "j =  2\n",
      "j =  1\n",
      "j =  2\n",
      "1\n",
      "1\n",
      "| \u001b[0m 3       \u001b[0m | \u001b[0m-1.334   \u001b[0m | \u001b[0m-1.806   \u001b[0m | \u001b[0m 3.092   \u001b[0m | \u001b[0m 1.811   \u001b[0m | \u001b[0m 1.825   \u001b[0m | \u001b[0m 1.668   \u001b[0m |\n",
      "=====================================================================================\n"
     ]
    }
   ],
   "source": [
    "optimizer = BayesianOptimization(\n",
    "    f=black_box_function,\n",
    "    pbounds={'x1': (-2, -1), 'x2': (2, 3), 'x3': (2, 3), 'x4': (2, 3), 'x5': (2, 3)},\n",
    "    verbose=2,\n",
    "    random_state=1,\n",
    ")\n",
    "optimizer.maximize(init_points=2, n_iter=0, kappa=5, acq='kg')\n",
    "optimizer.maximize(init_points=0, n_iter=1, kappa=5, acq='kg')"
   ]
  },
  {
   "cell_type": "code",
   "execution_count": 8,
   "id": "e5b30f51",
   "metadata": {},
   "outputs": [
    {
     "name": "stdout",
     "output_type": "stream",
     "text": [
      "|   iter    |  target   |    x1     |    x2     |    x3     |    x4     |    x5     |\n",
      "-------------------------------------------------------------------------------------\n",
      "| \u001b[0m 1       \u001b[0m | \u001b[0m 1.984   \u001b[0m | \u001b[0m-1.583   \u001b[0m | \u001b[0m 2.72    \u001b[0m | \u001b[0m 2.0     \u001b[0m | \u001b[0m 2.302   \u001b[0m | \u001b[0m 2.147   \u001b[0m |\n",
      "| \u001b[95m 2       \u001b[0m | \u001b[95m 3.235   \u001b[0m | \u001b[95m-1.908   \u001b[0m | \u001b[95m 2.186   \u001b[0m | \u001b[95m 2.346   \u001b[0m | \u001b[95m 2.397   \u001b[0m | \u001b[95m 2.539   \u001b[0m |\n",
      "=====================================================================================\n",
      "|   iter    |  target   |    x1     |    x2     |    x3     |    x4     |    x5     |\n",
      "-------------------------------------------------------------------------------------\n",
      "| \u001b[0m 3       \u001b[0m | \u001b[0m 3.235   \u001b[0m | \u001b[0m-1.908   \u001b[0m | \u001b[0m 2.186   \u001b[0m | \u001b[0m 2.346   \u001b[0m | \u001b[0m 2.397   \u001b[0m | \u001b[0m 2.539   \u001b[0m |\n",
      "=====================================================================================\n"
     ]
    }
   ],
   "source": [
    "# Poi\n",
    "optimizer = BayesianOptimization(\n",
    "    f=black_box_function,\n",
    "    pbounds={'x1': (-2, -1), 'x2': (2, 3), 'x3': (2, 3), 'x4': (2, 3), 'x5': (2, 3)},\n",
    "    verbose=2,\n",
    "    random_state=1,\n",
    ")\n",
    "optimizer.maximize(init_points=2, n_iter=0, kappa=5, acq='poi')\n",
    "optimizer.maximize(init_points=0, n_iter=1, kappa=5, acq='poi')"
   ]
  },
  {
   "cell_type": "code",
   "execution_count": null,
   "id": "ec20f569",
   "metadata": {},
   "outputs": [],
   "source": []
  }
 ],
 "metadata": {
  "kernelspec": {
   "display_name": "Python 3",
   "language": "python",
   "name": "python3"
  },
  "language_info": {
   "codemirror_mode": {
    "name": "ipython",
    "version": 3
   },
   "file_extension": ".py",
   "mimetype": "text/x-python",
   "name": "python",
   "nbconvert_exporter": "python",
   "pygments_lexer": "ipython3",
   "version": "3.8.8"
  }
 },
 "nbformat": 4,
 "nbformat_minor": 5
}
